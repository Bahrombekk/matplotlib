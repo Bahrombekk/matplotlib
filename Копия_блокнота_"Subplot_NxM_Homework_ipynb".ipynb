{
  "cells": [
    {
      "cell_type": "markdown",
      "metadata": {
        "id": "view-in-github",
        "colab_type": "text"
      },
      "source": [
        "<a href=\"https://colab.research.google.com/github/Bahrombekk/numpay/blob/main/%D0%9A%D0%BE%D0%BF%D0%B8%D1%8F_%D0%B1%D0%BB%D0%BE%D0%BA%D0%BD%D0%BE%D1%82%D0%B0_%22Subplot_NxM_Homework_ipynb%22.ipynb\" target=\"_parent\"><img src=\"https://colab.research.google.com/assets/colab-badge.svg\" alt=\"Open In Colab\"/></a>"
      ]
    },
    {
      "cell_type": "code",
      "execution_count": null,
      "metadata": {
        "id": "WQPiXV8VYTq1"
      },
      "outputs": [],
      "source": [
        "import matplotlib.pyplot as plt"
      ]
    },
    {
      "cell_type": "code",
      "execution_count": null,
      "metadata": {
        "colab": {
          "background_save": true
        },
        "id": "2cn4MmSsXowG"
      },
      "outputs": [],
      "source": []
    },
    {
      "cell_type": "code",
      "execution_count": null,
      "metadata": {
        "id": "EQll71PjguLB"
      },
      "outputs": [],
      "source": [
        "plt.rcParams['xtick.bottom'] = plt.rcParams['xtick.labelbottom'] = False\n",
        "plt.rcParams['xtick.top'] = plt.rcParams['xtick.labeltop'] = False\n",
        "plt.rcParams['ytick.left'] = plt.rcParams['ytick.labelleft'] = False"
      ]
    },
    {
      "cell_type": "code",
      "execution_count": null,
      "metadata": {
        "id": "9b-2EIfNY4ba"
      },
      "outputs": [],
      "source": [
        "def subplot_2x3(fig):\n",
        "  \"\"\"\n",
        "  Draw axises two rows and three columns. 2x3\n",
        "  Args:\n",
        "    fig: figure\n",
        "  Returns:\n",
        "    axis: The Axes of the subplot.\n",
        "  \"\"\"\n",
        "  for i in range(1,7):\n",
        "    plt.subplot(3,2,i)\n",
        "    plt.text(0.5,0.5,f'{i}',c='r',size=20)\n",
        "    plt.text(0.4,1.05,f'axis-{i}',size=10,c='b')\n",
        "  return 0"
      ]
    },
    {
      "cell_type": "code",
      "execution_count": null,
      "metadata": {
        "colab": {
          "base_uri": "https://localhost:8080/",
          "height": 260
        },
        "id": "ytVZHFc0nHU0",
        "outputId": "3c602156-038d-4c7e-fca7-4ce798314d08"
      },
      "outputs": [
        {
          "output_type": "display_data",
          "data": {
            "text/plain": [
              "<Figure size 432x288 with 6 Axes>"
            ],
            "image/png": "[encoded data removed]"
          },
          "metadata": {}
        }
      ],
      "source": [
        "fig = plt.figure(figsize=(6,4))\n",
        "ax2x3 = subplot_2x3(fig)"
      ]
    },
    {
      "cell_type": "code",
      "execution_count": null,
      "metadata": {
        "id": "8gXDhvcCm8Q1"
      },
      "outputs": [],
      "source": [
        "def subplot_4x2(fig):\n",
        "  \"\"\"\n",
        "  Draw axises four rows and two columns. 4x2\n",
        "  Args:\n",
        "    fig: figure\n",
        "  Returns:\n",
        "    axis: The Axes of the subplot.\n",
        "  \"\"\"\n",
        "  for i in range(1,7):\n",
        "    plt.subplot(3,2,i)\n",
        "    plt.text(0.5,0.5,f'{i}',size=20,c='r')\n",
        "    plt.text(0.4,1.05,f'axis-{i}',size=10,c='b')\n",
        "  return 0"
      ]
    },
    {
      "cell_type": "code",
      "execution_count": null,
      "metadata": {
        "colab": {
          "base_uri": "https://localhost:8080/",
          "height": 480
        },
        "id": "eUemr9YYnCps",
        "outputId": "8ea27c6e-8211-4187-fed1-e00ba4e83a1c"
      },
      "outputs": [
        {
          "output_type": "display_data",
          "data": {
            "text/plain": [
              "<Figure size 288x576 with 6 Axes>"
            ],
            "image/png": "[encoded data removed]"
          },
          "metadata": {}
        }
      ],
      "source": [
        "fig = plt.figure(figsize=(4,8))\n",
        "ax4x2 = subplot_4x2(fig)"
      ]
    },
    {
      "cell_type": "code",
      "execution_count": null,
      "metadata": {
        "id": "tk-JcGfCo6I9"
      },
      "outputs": [],
      "source": [
        "def subplot_3x5(fig):\n",
        "  \"\"\"\n",
        "  Draw axises three rows and five columns. 3x5\n",
        "  Args:\n",
        "    fig: figure\n",
        "  Returns:\n",
        "    axis: The Axes of the subplot.\n",
        "  \"\"\"\n",
        "  for i in range(1,16):\n",
        "    plt.subplot(3,5,i)\n",
        "    plt.text(0.5,0.5,f'{i}',size=20,c='r')\n",
        "    plt.text(0.4,1.05,f'axis-{i}',size=10,c='b')\n",
        "  return 0"
      ]
    },
    {
      "cell_type": "code",
      "execution_count": null,
      "metadata": {
        "colab": {
          "base_uri": "https://localhost:8080/",
          "height": 370
        },
        "id": "XPsnnjuvpEZx",
        "outputId": "789e14fc-0449-4504-ef6e-16cf3464991f"
      },
      "outputs": [
        {
          "output_type": "display_data",
          "data": {
            "text/plain": [
              "<Figure size 720x432 with 15 Axes>"
            ],
            "image/png": "[encoded data removed]"
          },
          "metadata": {}
        }
      ],
      "source": [
        "fig = plt.figure(figsize=(10,6))\n",
        "ax3x5 = subplot_3x5(fig)"
      ]
    },
    {
      "cell_type": "code",
      "execution_count": null,
      "metadata": {
        "id": "3vb9YUFcnJrd"
      },
      "outputs": [],
      "source": [
        "def subplot_5x5(fig):\n",
        "  \"\"\"\n",
        "  Draw axises two rows and three columns. 5x5\n",
        "  Args:\n",
        "    fig: figure\n",
        "  Returns:\n",
        "    axis: The Axes of the subplot.\n",
        "  \"\"\"\n",
        "  for i in range(1,26):\n",
        "    plt.subplot(5,5,i)\n",
        "    plt.text(0.5,0.5,f'{i}',size=20,c='r')\n",
        "    plt.text(0.4,1.05,f'axis-{i}',size=10,c='b')\n",
        "  return 0"
      ]
    },
    {
      "cell_type": "code",
      "execution_count": null,
      "metadata": {
        "colab": {
          "base_uri": "https://localhost:8080/",
          "height": 587
        },
        "id": "xMafTMajnz-l",
        "outputId": "315a9c52-85eb-4eba-9601-0e3953c1206c"
      },
      "outputs": [
        {
          "output_type": "display_data",
          "data": {
            "text/plain": [
              "<Figure size 720x720 with 25 Axes>"
            ],
            "image/png": "[encoded data removed]"
          },
          "metadata": {}
        }
      ],
      "source": [
        "fig = plt.figure(figsize=(10,10))\n",
        "ax5x5 = subplot_5x5(fig)"
      ]
    },
    {
      "cell_type": "code",
      "execution_count": null,
      "metadata": {
        "id": "mhQzcx9en4qd"
      },
      "outputs": [],
      "source": [
        "def subplot_3x1(fig):\n",
        "  \"\"\"\n",
        "  Draw axises two rows and three columns. 3x1\n",
        "  Args:\n",
        "    fig: figure\n",
        "  Returns:\n",
        "    axis: The Axes of the subplot.\n",
        "  \"\"\"\n",
        "  for i in range(1,4):\n",
        "    plt.subplot(3,1,i)\n",
        "    plt.text(0.5,0.5,f'{i}',size=20,c='r')\n",
        "    plt.text(0.4,1.05,f'axis-{i}',size=10,c='b')\n",
        "  return 0"
      ]
    },
    {
      "cell_type": "code",
      "execution_count": null,
      "metadata": {
        "colab": {
          "base_uri": "https://localhost:8080/",
          "height": 370
        },
        "id": "JUa7vwjEr9F9",
        "outputId": "f775ac66-74d5-469d-b7ab-0d383d8f66d5"
      },
      "outputs": [
        {
          "output_type": "display_data",
          "data": {
            "text/plain": [
              "<Figure size 144x432 with 3 Axes>"
            ],
            "image/png": "[encoded data removed]"
          },
          "metadata": {}
        }
      ],
      "source": [
        "fig = plt.figure(figsize=(2,6))\n",
        "ax3x1 = subplot_3x1(fig)"
      ]
    },
    {
      "cell_type": "code",
      "execution_count": null,
      "metadata": {
        "id": "PU54444Xr_J1"
      },
      "outputs": [],
      "source": [
        "def subplot_1x3(fig):\n",
        "  \"\"\"\n",
        "  Draw axises twoone row and three columns. 1x3\n",
        "  Args:\n",
        "    fig: figure\n",
        "  Returns:\n",
        "    axis: The Axes of the subplot.\n",
        "  \"\"\"\n",
        "  for i in range(1,4):\n",
        "    plt.subplot(1,3,i)\n",
        "    plt.text(0.5,0.5,f'{i}',size=20,c='r')\n",
        "    plt.text(0.4,1.05,f'axis-{i}',size=10,c='b')\n",
        "  return 0"
      ]
    },
    {
      "cell_type": "code",
      "execution_count": null,
      "metadata": {
        "colab": {
          "base_uri": "https://localhost:8080/",
          "height": 153
        },
        "id": "WKaPkZaosPX9",
        "outputId": "ce4f6cfb-889c-4d6c-f422-8ccab9eead7c"
      },
      "outputs": [
        {
          "output_type": "display_data",
          "data": {
            "text/plain": [
              "<Figure size 432x144 with 3 Axes>"
            ],
            "image/png": "[encoded data removed]"
          },
          "metadata": {}
        }
      ],
      "source": [
        "fig = plt.figure(figsize=(6,2))\n",
        "ax3x1 = subplot_1x3(fig)"
      ]
    },
    {
      "cell_type": "code",
      "execution_count": null,
      "metadata": {
        "id": "Ysb3EX8MsUv4"
      },
      "outputs": [],
      "source": []
    }
  ],
  "metadata": {
    "colab": {
      "provenance": [],
      "include_colab_link": true
    },
    "kernelspec": {
      "display_name": "Python 3",
      "name": "python3"
    },
    "language_info": {
      "name": "python"
    }
  },
  "nbformat": 4,
  "nbformat_minor": 0
}