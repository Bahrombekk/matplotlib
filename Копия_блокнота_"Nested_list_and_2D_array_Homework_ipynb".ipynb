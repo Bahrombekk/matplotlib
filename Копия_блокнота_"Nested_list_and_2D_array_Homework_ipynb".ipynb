{
  "nbformat": 4,
  "nbformat_minor": 0,
  "metadata": {
    "colab": {
      "provenance": [],
      "include_colab_link": true
    },
    "kernelspec": {
      "name": "python3",
      "display_name": "Python 3"
    }
  },
  "cells": [
    {
      "cell_type": "markdown",
      "metadata": {
        "id": "view-in-github",
        "colab_type": "text"
      },
      "source": [
        "<a href=\"https://colab.research.google.com/github/Bahrombekk/numpay/blob/main/%D0%9A%D0%BE%D0%BF%D0%B8%D1%8F_%D0%B1%D0%BB%D0%BE%D0%BA%D0%BD%D0%BE%D1%82%D0%B0_%22Nested_list_and_2D_array_Homework_ipynb%22.ipynb\" target=\"_parent\"><img src=\"https://colab.research.google.com/assets/colab-badge.svg\" alt=\"Open In Colab\"/></a>"
      ]
    },
    {
      "cell_type": "code",
      "metadata": {
        "id": "-dShaND5jOlq"
      },
      "source": [
        "import matplotlib.pyplot as plt\n",
        "import math"
      ],
      "execution_count": 16,
      "outputs": []
    },
    {
      "cell_type": "code",
      "metadata": {
        "id": "vJlMcVcUjavh"
      },
      "source": [
        "def arr_chess(n:int)->None:\n",
        "  '''\n",
        "  Draw a chessboard. board shape nxn\n",
        "\n",
        "  Args: \n",
        "    int: chess shape\n",
        "  returns: \n",
        "    list: Nested list\n",
        "  '''\n",
        "  l=[]\n",
        "  for i in range(n):\n",
        "    l2=[]\n",
        "    for j in range(n):\n",
        "      l2.append((i+j)%2)\n",
        "    l.append(l2)\n",
        "  return l"
      ],
      "execution_count": 7,
      "outputs": []
    },
    {
      "cell_type": "code",
      "source": [
        "chess_image_8x8 = arr_chess(8)\n",
        "plt.imshow(chess_image_8x8,cmap='gray')\n",
        "plt.show()"
      ],
      "metadata": {
        "colab": {
          "base_uri": "https://localhost:8080/",
          "height": 265
        },
        "id": "McfVhvpcvy6n",
        "outputId": "e282a08c-eb69-4702-e6a1-1178942cca63"
      },
      "execution_count": 10,
      "outputs": [
        {
          "output_type": "display_data",
          "data": {
            "text/plain": [
              "<Figure size 432x288 with 1 Axes>"
            ],
            "image/png": "[encoded data removed]"
          },
          "metadata": {
            "needs_background": "light"
          }
        }
      ]
    },
    {
      "cell_type": "code",
      "source": [
        "chess_image_5x5 = arr_chess(5)\n",
        "plt.imshow(chess_image_5x5,cmap='gray')\n",
        "plt.show()"
      ],
      "metadata": {
        "colab": {
          "base_uri": "https://localhost:8080/",
          "height": 265
        },
        "id": "eeLhiU565l4R",
        "outputId": "5c483d3e-f30a-48a9-bd36-55cc2085fd44"
      },
      "execution_count": 11,
      "outputs": [
        {
          "output_type": "display_data",
          "data": {
            "text/plain": [
              "<Figure size 432x288 with 1 Axes>"
            ],
            "image/png": "[encoded data removed]"
          },
          "metadata": {
            "needs_background": "light"
          }
        }
      ]
    },
    {
      "cell_type": "code",
      "source": [
        "def create_border(n):\n",
        "  '''\n",
        "  Draw a border image. image\n",
        "\n",
        "  Args: \n",
        "    int: shape\n",
        "  returns: \n",
        "    list: Nested list\n",
        "  '''\n",
        "  l=[]\n",
        "  for i in range(n):\n",
        "    l2=[]\n",
        "    for j in range(n):\n",
        "      if  i==0 or j==0 or j+1==n or i+1==n:\n",
        "        l2.append(1)\n",
        "      else:\n",
        "        l2.append(0)\n",
        "    l.append(l2)\n",
        "  return l"
      ],
      "metadata": {
        "id": "vEq-fxMoIHSm"
      },
      "execution_count": 142,
      "outputs": []
    },
    {
      "cell_type": "code",
      "source": [
        "border_5 = create_border(5)\n",
        "border_5"
      ],
      "metadata": {
        "colab": {
          "base_uri": "https://localhost:8080/"
        },
        "id": "11XZ8ScUP_Jp",
        "outputId": "b13861e5-52fb-4cf7-f342-e389f4b2b301"
      },
      "execution_count": 143,
      "outputs": [
        {
          "output_type": "execute_result",
          "data": {
            "text/plain": [
              "[[1, 1, 1, 1, 1],\n",
              " [1, 0, 0, 0, 1],\n",
              " [1, 0, 0, 0, 1],\n",
              " [1, 0, 0, 0, 1],\n",
              " [1, 1, 1, 1, 1]]"
            ]
          },
          "metadata": {},
          "execution_count": 143
        }
      ]
    },
    {
      "cell_type": "code",
      "source": [
        "plt.imshow(border_5,cmap='gray')\n",
        "plt.show()"
      ],
      "metadata": {
        "colab": {
          "base_uri": "https://localhost:8080/",
          "height": 265
        },
        "id": "CfGnEt-mQDL4",
        "outputId": "b5d70197-6fef-4e51-ee4f-7a21216b57a3"
      },
      "execution_count": 144,
      "outputs": [
        {
          "output_type": "display_data",
          "data": {
            "text/plain": [
              "<Figure size 432x288 with 1 Axes>"
            ],
            "image/png": "[encoded data removed]"
          },
          "metadata": {
            "needs_background": "light"
          }
        }
      ]
    },
    {
      "cell_type": "code",
      "source": [
        "border_3 = create_border(3)\n",
        "border_3"
      ],
      "metadata": {
        "colab": {
          "base_uri": "https://localhost:8080/"
        },
        "id": "C9fwqBQ_QFg6",
        "outputId": "1e627a45-fcc4-4c49-ead7-77f370bf24bf"
      },
      "execution_count": 145,
      "outputs": [
        {
          "output_type": "execute_result",
          "data": {
            "text/plain": [
              "[[1, 1, 1], [1, 0, 1], [1, 1, 1]]"
            ]
          },
          "metadata": {},
          "execution_count": 145
        }
      ]
    },
    {
      "cell_type": "code",
      "source": [
        "plt.imshow(border_3,cmap='gray')\n",
        "plt.show()"
      ],
      "metadata": {
        "colab": {
          "base_uri": "https://localhost:8080/",
          "height": 269
        },
        "id": "bubdKyGkQH2O",
        "outputId": "869d150d-06cc-4277-f0c6-1138e4396f04"
      },
      "execution_count": 146,
      "outputs": [
        {
          "output_type": "display_data",
          "data": {
            "text/plain": [
              "<Figure size 432x288 with 1 Axes>"
            ],
            "image/png": "[encoded data removed]"
          },
          "metadata": {
            "needs_background": "light"
          }
        }
      ]
    },
    {
      "cell_type": "code",
      "source": [
        "def rect_dioganal_right(column:list)->list:\n",
        "  '''\n",
        "  Draw a diagonal to the right of the rectangle.\n",
        "  A diagonal of a rectangle cuts the rectangle into two right triangles.\n",
        "\n",
        "  Arg:\n",
        "    list: column empty list.\n",
        "  return: \n",
        "    list: Nested list\n",
        "  '''\n",
        "  l=[]\n",
        "  for i in range(column):\n",
        "    l2=[]\n",
        "    for j in range(column):\n",
        "      if i-j==0:\n",
        "        l2.append(0)\n",
        "      else:\n",
        "        l2.append(1)\n",
        "    l.append(l2)\n",
        "  return l\n",
        "rect_dioganal_right(8)"
      ],
      "metadata": {
        "id": "Qyw0KVY81afB",
        "colab": {
          "base_uri": "https://localhost:8080/"
        },
        "outputId": "ef2e03ff-49fe-4d44-bb1a-b2c6ce81f538"
      },
      "execution_count": 61,
      "outputs": [
        {
          "output_type": "execute_result",
          "data": {
            "text/plain": [
              "[[0, 1, 1, 1, 1, 1, 1, 1],\n",
              " [1, 0, 1, 1, 1, 1, 1, 1],\n",
              " [1, 1, 0, 1, 1, 1, 1, 1],\n",
              " [1, 1, 1, 0, 1, 1, 1, 1],\n",
              " [1, 1, 1, 1, 0, 1, 1, 1],\n",
              " [1, 1, 1, 1, 1, 0, 1, 1],\n",
              " [1, 1, 1, 1, 1, 1, 0, 1],\n",
              " [1, 1, 1, 1, 1, 1, 1, 0]]"
            ]
          },
          "metadata": {},
          "execution_count": 61
        }
      ]
    },
    {
      "cell_type": "code",
      "source": [
        "rect_image1 = rect_dioganal_right(column =8)\n",
        "plt.imshow(rect_image1, cmap='gray')\n",
        "plt.show()"
      ],
      "metadata": {
        "colab": {
          "base_uri": "https://localhost:8080/",
          "height": 265
        },
        "id": "w41U9iOf2NDO",
        "outputId": "8a4150eb-c8fc-4a67-979b-02eecaa779c9"
      },
      "execution_count": 62,
      "outputs": [
        {
          "output_type": "display_data",
          "data": {
            "text/plain": [
              "<Figure size 432x288 with 1 Axes>"
            ],
            "image/png": "[encoded data removed]"
          },
          "metadata": {
            "needs_background": "light"
          }
        }
      ]
    },
    {
      "cell_type": "code",
      "source": [
        "def rect_dioganal_left(column:list)->list:\n",
        "  '''\n",
        "  Draw a diagonal to the left of the rectangle.\n",
        "  A diagonal of a rectangle cuts the rectangle into two right triangles.\n",
        "\n",
        "  Arg:\n",
        "    list: column empty list.\n",
        "  return: \n",
        "    list: 2d list\n",
        "  '''\n",
        "  l=[]\n",
        "  for i in range(column):\n",
        "    l2=[]\n",
        "    for j in range(column):\n",
        "      if i+j+1==column:\n",
        "        l2.append(0)\n",
        "      else:\n",
        "        l2.append(1)\n",
        "    l.append(l2)\n",
        "  return l\n",
        "rect_dioganal_left(8)"
      ],
      "metadata": {
        "id": "xIWvga0A2Vd5",
        "colab": {
          "base_uri": "https://localhost:8080/"
        },
        "outputId": "9291450e-efa2-4677-88c2-7a43f5e5a72e"
      },
      "execution_count": 69,
      "outputs": [
        {
          "output_type": "execute_result",
          "data": {
            "text/plain": [
              "[[1, 1, 1, 1, 1, 1, 1, 0],\n",
              " [1, 1, 1, 1, 1, 1, 0, 1],\n",
              " [1, 1, 1, 1, 1, 0, 1, 1],\n",
              " [1, 1, 1, 1, 0, 1, 1, 1],\n",
              " [1, 1, 1, 0, 1, 1, 1, 1],\n",
              " [1, 1, 0, 1, 1, 1, 1, 1],\n",
              " [1, 0, 1, 1, 1, 1, 1, 1],\n",
              " [0, 1, 1, 1, 1, 1, 1, 1]]"
            ]
          },
          "metadata": {},
          "execution_count": 69
        }
      ]
    },
    {
      "cell_type": "code",
      "source": [
        "rect_image2 = rect_dioganal_left(column = 8)\n",
        "plt.imshow(rect_image2, cmap='gray')\n",
        "plt.show()"
      ],
      "metadata": {
        "colab": {
          "base_uri": "https://localhost:8080/",
          "height": 265
        },
        "id": "TieJVFhU2kN9",
        "outputId": "6095e4bf-234e-4f27-b586-ada038b3cbfa"
      },
      "execution_count": 70,
      "outputs": [
        {
          "output_type": "display_data",
          "data": {
            "text/plain": [
              "<Figure size 432x288 with 1 Axes>"
            ],
            "image/png": "[encoded data removed]"
          },
          "metadata": {
            "needs_background": "light"
          }
        }
      ]
    },
    {
      "cell_type": "code",
      "metadata": {
        "id": "QqCk9U8IYAAv"
      },
      "source": [
        "def circle(column:list)->list:\n",
        "  \"\"\"\n",
        "  Draw a circle using a 2D array \n",
        "  Args:\n",
        "    list: empty list\n",
        "  retruns:\n",
        "    list: 2D list\n",
        "  \"\"\"\n",
        "  l=[]\n",
        "  for i in range(column):\n",
        "    l2=[]\n",
        "    for j in range(column):\n",
        "      l2.append(0)\n",
        "    l.append(l2)\n",
        "  r=200\n",
        "  cx=250\n",
        "  cy=250\n",
        "  for i in range(-column,column+1):\n",
        "    for j in range(-column,column+1):\n",
        "      if i*i+j*j<=r*r:\n",
        "        l[cx+i][cy+j]=1\n",
        "\n",
        "  return l\n"
      ],
      "execution_count": 10,
      "outputs": []
    },
    {
      "cell_type": "code",
      "source": [
        "plt.imshow(circle(500),cmap='gray')\n",
        "plt.title('Circle',color='blue',pad=20)\n",
        "plt.show()"
      ],
      "metadata": {
        "colab": {
          "base_uri": "https://localhost:8080/",
          "height": 295
        },
        "id": "2Gei9-7h5CjH",
        "outputId": "c8fcc02e-37da-4e2b-dc61-866004e6eae7"
      },
      "execution_count": 12,
      "outputs": [
        {
          "output_type": "display_data",
          "data": {
            "text/plain": [
              "<Figure size 432x288 with 1 Axes>"
            ],
            "image/png": "[encoded data removed]"
          },
          "metadata": {
            "needs_background": "light"
          }
        }
      ]
    },
    {
      "cell_type": "code",
      "source": [
        "def full_circle(column:list)->list:\n",
        "  \"\"\"\n",
        "  Draw a full circle using a 2D array \n",
        "  Args:\n",
        "    list: empty list\n",
        "  retruns:\n",
        "    list: 2D list\n",
        "  \"\"\"\n",
        "  l=[]\n",
        "  for i in range(column):\n",
        "    l2=[]\n",
        "    for j in range(column):\n",
        "      l2.append(1)\n",
        "    l.append(l2)\n",
        "  r=200\n",
        "  cx=250\n",
        "  cy=250\n",
        "  for i in range(-column,column+1):\n",
        "    for j in range(-column,column+1):\n",
        "      if i*i+j*j<=r*r:\n",
        "        l[cx+i][cy+j]=0\n",
        "\n",
        "  return l"
      ],
      "metadata": {
        "id": "_2yhkapZ3QvZ"
      },
      "execution_count": 34,
      "outputs": []
    },
    {
      "cell_type": "code",
      "source": [
        "plt.imshow(full_circle(500),cmap='gray')\n",
        "plt.title('Full circle inside',color='blue',pad=20)\n",
        "plt.show()"
      ],
      "metadata": {
        "colab": {
          "base_uri": "https://localhost:8080/",
          "height": 295
        },
        "id": "TF4xShYp3Wen",
        "outputId": "74313707-d1de-4c7f-c1f2-d947617b4586"
      },
      "execution_count": 35,
      "outputs": [
        {
          "output_type": "display_data",
          "data": {
            "text/plain": [
              "<Figure size 432x288 with 1 Axes>"
            ],
            "image/png": "[encoded data removed]"
          },
          "metadata": {
            "needs_background": "light"
          }
        }
      ]
    },
    {
      "cell_type": "code",
      "source": [],
      "metadata": {
        "id": "zPfRt_l84mUM"
      },
      "execution_count": null,
      "outputs": []
    }
  ]
}