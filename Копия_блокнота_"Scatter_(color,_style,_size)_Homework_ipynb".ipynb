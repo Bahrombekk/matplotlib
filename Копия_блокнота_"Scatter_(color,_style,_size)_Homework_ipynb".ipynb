{
  "nbformat": 4,
  "nbformat_minor": 0,
  "metadata": {
    "colab": {
      "provenance": [],
      "include_colab_link": true
    },
    "kernelspec": {
      "name": "python3",
      "display_name": "Python 3"
    },
    "language_info": {
      "name": "python"
    },
    "gpuClass": "standard"
  },
  "cells": [
    {
      "cell_type": "markdown",
      "metadata": {
        "id": "view-in-github",
        "colab_type": "text"
      },
      "source": [
        "<a href=\"https://colab.research.google.com/github/Bahrombekk/numpay/blob/main/%D0%9A%D0%BE%D0%BF%D0%B8%D1%8F_%D0%B1%D0%BB%D0%BE%D0%BA%D0%BD%D0%BE%D1%82%D0%B0_%22Scatter_(color%2C_style%2C_size)_Homework_ipynb%22.ipynb\" target=\"_parent\"><img src=\"https://colab.research.google.com/assets/colab-badge.svg\" alt=\"Open In Colab\"/></a>"
      ]
    },
    {
      "cell_type": "markdown",
      "metadata": {
        "id": "vcZ4N5DFk4c3"
      },
      "source": [
        "# 1 Scatter (color, style, size)"
      ]
    },
    {
      "cell_type": "markdown",
      "source": [
        "# New Section"
      ],
      "metadata": {
        "id": "rSexIS90r_JY"
      }
    },
    {
      "cell_type": "code",
      "metadata": {
        "id": "qrdkkwXflQc2"
      },
      "source": [
        "# Adding Maplotlib module\n",
        "import matplotlib.pyplot as plt"
      ],
      "execution_count": null,
      "outputs": []
    },
    {
      "cell_type": "markdown",
      "metadata": {
        "id": "nTWb5zUBljiR"
      },
      "source": [
        "## 1. Plot one Data (Ma'lumotni tasvirlang)\n",
        "   \n",
        "   <b>Input</b>\n",
        "  <table align=\"left\"> \n",
        "  <tr>\n",
        "    <th><font size=\"3\">X</font></th>\n",
        "    <th><font size=\"3\">Y</font></th>\n",
        "  </tr>\n",
        "  <tr>\n",
        "    <td><font size=\"3\">4</font></td>\n",
        "    <td><font size=\"3\">9</font></td>\n",
        "  </tr>\n",
        "  </table>"
      ]
    },
    {
      "cell_type": "code",
      "metadata": {
        "colab": {
          "base_uri": "https://localhost:8080/",
          "height": 265
        },
        "id": "xZURY96Qk8wj",
        "outputId": "fb5b95b1-e0c1-48ff-f3b1-85272e897d6a"
      },
      "source": [
        "def one_point(x,y):\n",
        "  '''\n",
        "  Parameters: x and y axis points;\n",
        "  '''\n",
        "  # Write the code here\n",
        "  plt.scatter(x,y)\n",
        "  plt.show()\n",
        "one_point(4,9)\n"
      ],
      "execution_count": null,
      "outputs": [
        {
          "output_type": "display_data",
          "data": {
            "text/plain": [
              "<Figure size 432x288 with 1 Axes>"
            ],
            "image/png": "[encoded data removed]"
          },
          "metadata": {
            "needs_background": "light"
          }
        }
      ]
    },
    {
      "cell_type": "markdown",
      "metadata": {
        "id": "aGZmp-zAmDph"
      },
      "source": [
        "## 2. Plot list of Data (Listdagi ma'lumotlarni tasvirlang)\n",
        "\n",
        "   <b>Input</b>\n",
        "  <table align=\"left\"> \n",
        "  <tr>\n",
        "    <th><font size=\"3\">X</font></th>\n",
        "    <th><font size=\"3\">Y</font></th>\n",
        "  </tr>\n",
        "  <tr>\n",
        "    <td><font size=\"3\">1</font></td>\n",
        "    <td><font size=\"3\">2</font></td>\n",
        "  </tr>\n",
        "   <tr>\n",
        "    <td><font size=\"3\">2</font></td>\n",
        "    <td><font size=\"3\">4</font></td>\n",
        "  </tr>\n",
        "    <tr>\n",
        "    <td><font size=\"3\">3</font></td>\n",
        "    <td><font size=\"3\">6</font></td>\n",
        "  </tr>\n",
        "      <tr>\n",
        "    <td><font size=\"3\">4</font></td>\n",
        "    <td><font size=\"3\">3</font></td>\n",
        "  </tr>\n",
        "      <tr>\n",
        "    <td><font size=\"3\">10</font></td>\n",
        "    <td><font size=\"3\">7</font></td>\n",
        "  </tr>\n",
        "  </table>"
      ]
    },
    {
      "cell_type": "code",
      "metadata": {
        "colab": {
          "base_uri": "https://localhost:8080/",
          "height": 265
        },
        "id": "k_VOqpI9mEpl",
        "outputId": "f101766f-4f2e-4af6-dfd2-3679fa3d4758"
      },
      "source": [
        "def list_points(x,y):\n",
        "  '''\n",
        "  Parameters: x and y axis points list;\n",
        "  '''\n",
        "  # Write the code here\n",
        "  plt.scatter(x,y)\n",
        "  plt.show()\n",
        "x=[1,2,3,4,10]\n",
        "y=[2,4,6,3,7]\n",
        "list_points(x,y)"
      ],
      "execution_count": null,
      "outputs": [
        {
          "output_type": "display_data",
          "data": {
            "text/plain": [
              "<Figure size 432x288 with 1 Axes>"
            ],
            "image/png": "[encoded data removed]"
          },
          "metadata": {
            "needs_background": "light"
          }
        }
      ]
    },
    {
      "cell_type": "markdown",
      "metadata": {
        "id": "Qa4iOwLdmgCx"
      },
      "source": [
        "## Marker color\n",
        "3. Change the color of points (Nuqtalar rangini o'zgartiring)\n",
        "\n",
        "   <b>Input</b>\n",
        "  <table align=\"left\"> \n",
        "  <tr>\n",
        "    <th align=\"center\"><font size=\"3\">X</font></th>\n",
        "    <th align=\"center\"><font size=\"3\">Y</font></th>\n",
        "    <th align=\"center\"><font size=\"3\">Color</font></th>\n",
        "  </tr>\n",
        "  <tr>\n",
        "    <td align=\"center\"><font size=\"3\">1</font></td>\n",
        "    <td align=\"center\"><font size=\"3\">2</font></td>\n",
        "    <td align=\"center\"><font size=\"3\" color='red'>red</font></td>\n",
        "  </tr>\n",
        "  <tr>\n",
        "    <td align=\"center\"><font size=\"3\">2</font></td>\n",
        "    <td align=\"center\"><font size=\"3\">4</font></td>\n",
        "    <td align=\"center\"><font size=\"3\" color='red'>red</font></td>\n",
        "  </tr>\n",
        "  <tr>\n",
        "    <td align=\"center\"><font size=\"3\">3</font></td>\n",
        "    <td align=\"center\"><font size=\"3\">6</font></td>\n",
        "    <td align=\"center\"><font size=\"3\" color='red'>red</font></td>\n",
        "  </tr>\n",
        "  <tr>\n",
        "    <td align=\"center\"><font size=\"3\">4</font></td>\n",
        "    <td align=\"center\"><font size=\"3\">3</font></td>\n",
        "    <td align=\"center\"><font size=\"3\" color='red'>red</font></td>\n",
        "  </tr>\n",
        "  <tr>\n",
        "    <td align=\"center\"><font size=\"3\">10</font></td>\n",
        "    <td align=\"center\"><font size=\"3\">7</font></td>\n",
        "    <td align=\"center\"><font size=\"3\" color='red'>red</font></td>\n",
        "  </tr>\n",
        "  </table>"
      ]
    },
    {
      "cell_type": "code",
      "metadata": {
        "colab": {
          "base_uri": "https://localhost:8080/",
          "height": 265
        },
        "id": "CWSnK8-OmhBt",
        "outputId": "bc47044d-a2c6-4a21-d636-3212287d4bb9"
      },
      "source": [
        "def points_color(x,y,color):\n",
        "  '''\n",
        "  Parameters: x and y axis points list;\n",
        "  '''\n",
        "  plt.scatter(x,y,color='r')\n",
        "  # Write the code here\n",
        "  plt.show()\n",
        "x=[1,2,3,4,10]\n",
        "y=[2,4,6,3,7]\n",
        "points_color(x,y,color='r')\n"
      ],
      "execution_count": null,
      "outputs": [
        {
          "output_type": "display_data",
          "data": {
            "text/plain": [
              "<Figure size 432x288 with 1 Axes>"
            ],
            "image/png": "[encoded data removed]"
          },
          "metadata": {
            "needs_background": "light"
          }
        }
      ]
    },
    {
      "cell_type": "markdown",
      "metadata": {
        "id": "kZwfS5YSngZb"
      },
      "source": [
        "## Marker style\n",
        "4. Change the marker style (Markerlar shaklini o'zgartiring)\n",
        "\n",
        "   <b>Input</b>\n",
        "  <table align=\"left\"> \n",
        "  <tr>\n",
        "    <th align=\"center\"><font size=\"3\">X</font></th>\n",
        "    <th align=\"center\"><font size=\"3\">Y</font></th>\n",
        "    <th align=\"center\"><font size=\"3\">Color</font></th>\n",
        "    <th align=\"center\"><font size=\"3\">Style</font></th>\n",
        "  </tr>\n",
        "  <tr>\n",
        "    <td align=\"center\"><font size=\"3\">1</font></td>\n",
        "    <td align=\"center\"><font size=\"3\">2</font></td>\n",
        "    <td align=\"center\"><font size=\"3\" color='magenta'>m</font></td>\n",
        "    <td align=\"center\"><font size=\"3\">*</font></td>\n",
        "  </tr>\n",
        "  <tr>\n",
        "    <td align=\"center\"><font size=\"3\">2</font></td>\n",
        "    <td align=\"center\"><font size=\"3\">4</font></td>\n",
        "    <td align=\"center\"><font size=\"3\" color='magenta'>m</font></td>\n",
        "    <td align=\"center\"><font size=\"3\">*</font></td>\n",
        "  </tr>\n",
        "  <tr>\n",
        "    <td align=\"center\"><font size=\"3\">3</font></td>\n",
        "    <td align=\"center\"><font size=\"3\">6</font></td>\n",
        "    <td align=\"center\"><font size=\"3\" color='magenta'>m</font></td>\n",
        "    <td align=\"center\"><font size=\"3\">*</font></td>\n",
        "  </tr>\n",
        "  <tr>\n",
        "    <td align=\"center\"><font size=\"3\">4</font></td>\n",
        "    <td align=\"center\"><font size=\"3\">3</font></td>\n",
        "    <td align=\"center\"><font size=\"3\" color='magenta'>m</font></td>\n",
        "    <td align=\"center\"><font size=\"3\">*</font></td>\n",
        "  </tr>\n",
        "  <tr>\n",
        "    <td align=\"center\"><font size=\"3\">10</font></td>\n",
        "    <td align=\"center\"><font size=\"3\">7</font></td>\n",
        "    <td align=\"center\"><font size=\"3\" color='magenta'>m</font></td>\n",
        "    <td align=\"center\"><font size=\"3\">*</font></td>\n",
        "  </tr>\n",
        "  </table>"
      ]
    },
    {
      "cell_type": "code",
      "metadata": {
        "colab": {
          "base_uri": "https://localhost:8080/",
          "height": 265
        },
        "id": "sfemOeM5nhRY",
        "outputId": "64cd19e7-1749-4abf-941c-eaf73920cb38"
      },
      "source": [
        "def points_style(x,y,color,marker):\n",
        "  '''\n",
        "  Parameters: x and y axis points list;\n",
        "  '''\n",
        "  plt.scatter(x,y,color='m',marker='*')\n",
        "  # Write the code here\n",
        "  plt.show()\n",
        "x=[1,2,3,4,10]\n",
        "y=[2,4,6,3,7]\n",
        "points_style(x,y,color='m',marker='*')"
      ],
      "execution_count": null,
      "outputs": [
        {
          "output_type": "display_data",
          "data": {
            "text/plain": [
              "<Figure size 432x288 with 1 Axes>"
            ],
            "image/png": "[encoded data removed]"
          },
          "metadata": {
            "needs_background": "light"
          }
        }
      ]
    },
    {
      "cell_type": "markdown",
      "metadata": {
        "id": "80xVyb2BpONT"
      },
      "source": [
        "## Marker size\n",
        "5. Change the size of the points (Nuqtalar hajmini o'zgartiring)\n",
        "\n",
        "   <b>Input</b>\n",
        "  <table align=\"left\"> \n",
        "  <tr>\n",
        "    <th align=\"center\"><font size=\"3\">X</font></th>\n",
        "    <th align=\"center\"><font size=\"3\">Y</font></th>\n",
        "    <th align=\"center\"><font size=\"3\">Size</font></th>\n",
        "  </tr>\n",
        "  <tr>\n",
        "    <td align=\"center\"><font size=\"3\">1</font></td>\n",
        "    <td align=\"center\"><font size=\"3\">2</font></td>\n",
        "    <td align=\"center\"><font size=\"3\">100</font></td>\n",
        "  </tr>\n",
        "  <tr>\n",
        "    <td align=\"center\"><font size=\"3\">2</font></td>\n",
        "    <td align=\"center\"><font size=\"3\">4</font></td>\n",
        "    <td align=\"center\"><font size=\"3\">100</font></td>\n",
        "  </tr>\n",
        "  <tr>\n",
        "    <td align=\"center\"><font size=\"3\">3</font></td>\n",
        "    <td align=\"center\"><font size=\"3\">6</font></td>\n",
        "    <td align=\"center\"><font size=\"3\">100</font></td>\n",
        "  </tr>\n",
        "  <tr>\n",
        "    <td align=\"center\"><font size=\"3\">4</font></td>\n",
        "    <td align=\"center\"><font size=\"3\">3</font></td>\n",
        "    <td align=\"center\"><font size=\"3\">100</font></td>\n",
        "  </tr>\n",
        "  <tr>\n",
        "    <td align=\"center\"><font size=\"3\">10</font></td>\n",
        "    <td align=\"center\"><font size=\"3\">7</font></td>\n",
        "    <td align=\"center\"><font size=\"3\">100</font></td>\n",
        "  </tr>\n",
        "  </table>"
      ]
    },
    {
      "cell_type": "code",
      "metadata": {
        "colab": {
          "base_uri": "https://localhost:8080/",
          "height": 265
        },
        "id": "47027sQjoeQM",
        "outputId": "1e5620aa-ec75-4caa-db12-6d6979b4b07f"
      },
      "source": [
        "def points_size(x,y,size):\n",
        "  '''\n",
        "  Parameters: x and y axis points list;\n",
        "  '''\n",
        "  # Write the code here\n",
        "  plt.scatter(x,y,size)\n",
        "  plt.show()\n",
        "x=[1,2,3,4,10]\n",
        "y=[2,4,6,3,7]\n",
        "points_size(x,y,size=100)\n"
      ],
      "execution_count": null,
      "outputs": [
        {
          "output_type": "display_data",
          "data": {
            "text/plain": [
              "<Figure size 432x288 with 1 Axes>"
            ],
            "image/png": "[encoded data removed]"
          },
          "metadata": {
            "needs_background": "light"
          }
        }
      ]
    },
    {
      "cell_type": "markdown",
      "metadata": {
        "id": "vgtJrORspQVy"
      },
      "source": [
        "## List of colors\n",
        "6. Plot different colored points (Turli xil ranglarni belgilang) \n",
        "\n",
        "   Input\n",
        "  <table align=\"left\"> \n",
        "  <tr>\n",
        "    <th align=\"center\"><font size=\"3\">X</font></th>\n",
        "    <th align=\"center\"><font size=\"3\">Y</font></th>\n",
        "    <th align=\"center\"><font size=\"3\">Color</font></th>\n",
        "  </tr>\n",
        "  <tr>\n",
        "    <td align=\"center\"><font size=\"3\">1</font></td>\n",
        "    <td align=\"center\"><font size=\"3\">2</font></td>\n",
        "    <td align=\"center\"><font size=\"3\" color='cyan'>c</font></td>\n",
        "  </tr>\n",
        "  <tr>\n",
        "    <td align=\"center\"><font size=\"3\">2</font></td>\n",
        "    <td align=\"center\"><font size=\"3\">4</font></td>\n",
        "    <td align=\"center\"><font size=\"3\" color='magenta'>m</font></td>\n",
        "  </tr>\n",
        "  <tr>\n",
        "    <td align=\"center\"><font size=\"3\">3</font></td>\n",
        "    <td align=\"center\"><font size=\"3\">6</font></td>\n",
        "    <td align=\"center\"><font size=\"3\" color='red'>r</font></td>\n",
        "  </tr>\n",
        "  <tr>\n",
        "    <td align=\"center\"><font size=\"3\">4</font></td>\n",
        "    <td align=\"center\"><font size=\"3\">3</font></td>\n",
        "    <td align=\"center\"><font size=\"3\" color='yellow'>y</font></td>\n",
        "  </tr>\n",
        "  <tr>\n",
        "    <td align=\"center\"><font size=\"3\">10</font></td>\n",
        "    <td align=\"center\"><font size=\"3\">7</font></td>\n",
        "    <td align=\"center\"><font size=\"3\" color='blue'>b</font></td>\n",
        "  </tr>\n",
        "  </table>"
      ]
    },
    {
      "cell_type": "code",
      "metadata": {
        "colab": {
          "base_uri": "https://localhost:8080/",
          "height": 265
        },
        "id": "48gaNv3spRJ1",
        "outputId": "afec7191-5aab-4647-a291-9e8bdba14af1"
      },
      "source": [
        "def each_point_color(x,y,color):\n",
        "  '''\n",
        "  Parameters: x and y axis points list;\n",
        "  '''\n",
        "  # Write the code here\n",
        "  plt.show()"
      ],
      "execution_count": null,
      "outputs": [
        {
          "output_type": "display_data",
          "data": {
            "image/png": "[encoded data removed]",
            "text/plain": [
              "<Figure size 432x288 with 1 Axes>"
            ]
          },
          "metadata": {
            "tags": [],
            "needs_background": "light"
          }
        }
      ]
    },
    {
      "cell_type": "markdown",
      "metadata": {
        "id": "7K_ZpRErp9eb"
      },
      "source": [
        "## List of marker style\n",
        "7. Plot different styled points (Nuqtalarni turli shaklda tasvirlang)\n",
        "\n",
        "   <b>Input</b>\n",
        "  <table align=\"left\"> \n",
        "  <tr>\n",
        "    <th align=\"center\"><font size=\"3\">X</font></th>\n",
        "    <th align=\"center\"><font size=\"3\">Y</font></th>\n",
        "    <th align=\"center\"><font size=\"3\">Color</font></th>\n",
        "    <th align=\"center\"><font size=\"3\">Style</font></th>\n",
        "  </tr>\n",
        "  <tr>\n",
        "    <td align=\"center\"><font size=\"3\">1</font></td>\n",
        "    <td align=\"center\"><font size=\"3\">2</font></td>\n",
        "    <td align=\"center\"><font size=\"3\" color='magenta'>m</font></td>\n",
        "    <td align=\"center\"><font size=\"3\">3</font></td>\n",
        "  </tr>\n",
        "  <tr>\n",
        "    <td align=\"center\"><font size=\"3\">2</font></td>\n",
        "    <td align=\"center\"><font size=\"3\">4</font></td>\n",
        "    <td align=\"center\"><font size=\"3\" color='magenta'>m</font></td>\n",
        "    <td align=\"center\"><font size=\"3\">p</font></td>\n",
        "  </tr>\n",
        "  <tr>\n",
        "    <td align=\"center\"><font size=\"3\">3</font></td>\n",
        "    <td align=\"center\"><font size=\"3\">6</font></td>\n",
        "    <td align=\"center\"><font size=\"3\" color='magenta'>m</font></td>\n",
        "    <td align=\"center\"><font size=\"3\">s</font></td>\n",
        "  </tr>\n",
        "  <tr>\n",
        "    <td align=\"center\"><font size=\"3\">4</font></td>\n",
        "    <td align=\"center\"><font size=\"3\">3</font></td>\n",
        "    <td align=\"center\"><font size=\"3\" color='magenta'>m</font></td>\n",
        "    <td align=\"center\"><font size=\"3\">v</font></td>\n",
        "  </tr>\n",
        "  <tr>\n",
        "    <td align=\"center\"><font size=\"3\">10</font></td>\n",
        "    <td align=\"center\"><font size=\"3\">7</font></td>\n",
        "    <td align=\"center\"><font size=\"3\" color='magenta'>m</font></td>\n",
        "    <td align=\"center\"><font size=\"3\">*</font></td>\n",
        "  </tr>\n",
        "\n",
        "  </table>"
      ]
    },
    {
      "cell_type": "code",
      "metadata": {
        "colab": {
          "base_uri": "https://localhost:8080/",
          "height": 135
        },
        "id": "QYhaVf2Gp-dJ",
        "outputId": "027521e4-72e4-4089-8a7f-f037b7ea9539"
      },
      "source": [
        "def each_point_style(x,y,color,style):\n",
        "  '''\n",
        "  Parameters: x and y axis points list;\n",
        "  '''\n",
        "  # Write the code here\n",
        "  plt.show()"
      ],
      "execution_count": null,
      "outputs": [
        {
          "output_type": "error",
          "ename": "SyntaxError",
          "evalue": "ignored",
          "traceback": [
            "\u001b[0;36m  File \u001b[0;32m\"<ipython-input-21-032d5353cc5d>\"\u001b[0;36m, line \u001b[0;32m6\u001b[0m\n\u001b[0;31m    plt.scatter(x,y color='m',style)\u001b[0m\n\u001b[0m                    ^\u001b[0m\n\u001b[0;31mSyntaxError\u001b[0m\u001b[0;31m:\u001b[0m invalid syntax\n"
          ]
        }
      ]
    },
    {
      "cell_type": "markdown",
      "metadata": {
        "id": "-KH5DGa8sMTR"
      },
      "source": [
        "## Customize style and size\n",
        "8.  Plot points with different style and size (Turli xil o'lchamdagi nuqtalarni tasvirlang)\n",
        "\n",
        "  <b>Input</b>\n",
        "  <table align=\"left\"> \n",
        "  <tr>\n",
        "    <th align=\"center\"><font size=\"3\">X</font></th>\n",
        "    <th align=\"center\"><font size=\"3\">Y</font></th>\n",
        "    <th align=\"center\"><font size=\"3\">Color</font></th>\n",
        "    <th align=\"center\"><font size=\"3\">Style</font></th>\n",
        "    <th align=\"center\"><font size=\"3\">Size</font></th>\n",
        "  </tr>\n",
        "  <tr>\n",
        "    <td align=\"center\"><font size=\"3\">1</font></td>\n",
        "    <td align=\"center\"><font size=\"3\">2</font></td>\n",
        "    <td align=\"center\"><font size=\"3\" color='magenta'>m</font></td>\n",
        "    <td align=\"center\"><font size=\"3\">3</font></td>\n",
        "    <td align=\"center\"><font size=\"3\">100</font></td>\n",
        "  </tr>\n",
        "  <tr>\n",
        "    <td align=\"center\"><font size=\"3\">2</font></td>\n",
        "    <td align=\"center\"><font size=\"3\">4</font></td>\n",
        "    <td align=\"center\"><font size=\"3\" color='magenta'>m</font></td>\n",
        "    <td align=\"center\"><font size=\"3\">p</font></td>\n",
        "    <td align=\"center\"><font size=\"3\">150</font></td>\n",
        "  </tr>\n",
        "  <tr>\n",
        "    <td align=\"center\"><font size=\"3\">3</font></td>\n",
        "    <td align=\"center\"><font size=\"3\">6</font></td>\n",
        "    <td align=\"center\"><font size=\"3\" color='magenta'>m</font></td>\n",
        "    <td align=\"center\"><font size=\"3\">s</font></td>\n",
        "    <td align=\"center\"><font size=\"3\">120</font></td>\n",
        "  </tr>\n",
        "  <tr>\n",
        "    <td align=\"center\"><font size=\"3\">4</font></td>\n",
        "    <td align=\"center\"><font size=\"3\">3</font></td>\n",
        "    <td align=\"center\"><font size=\"3\" color='magenta'>m</font></td>\n",
        "    <td align=\"center\"><font size=\"3\">v</font></td>\n",
        "    <td align=\"center\"><font size=\"3\">110</font></td>\n",
        "  </tr>\n",
        "  <tr>\n",
        "    <td align=\"center\"><font size=\"3\">10</font></td>\n",
        "    <td align=\"center\"><font size=\"3\">7</font></td>\n",
        "    <td align=\"center\"><font size=\"3\" color='magenta'>m</font></td>\n",
        "    <td align=\"center\"><font size=\"3\">*</font></td>\n",
        "    <td align=\"center\"><font size=\"3\">90</font></td>\n",
        "  </tr>\n",
        "\n",
        "  </table>"
      ]
    },
    {
      "cell_type": "code",
      "metadata": {
        "colab": {
          "base_uri": "https://localhost:8080/",
          "height": 265
        },
        "id": "zHACRfqbsNlr",
        "outputId": "2e845da4-cfc4-4ddf-8a05-16ebc125d9ad"
      },
      "source": [
        "def each_point_style_and_size(x,y,color,style,size):\n",
        "  '''\n",
        "  Parameters: x and y axis points list;\n",
        "  '''\n",
        "  # Write the code here\n",
        "  plt.show()"
      ],
      "execution_count": null,
      "outputs": [
        {
          "output_type": "display_data",
          "data": {
            "image/png": "[encoded data removed]",
            "text/plain": [
              "<Figure size 432x288 with 1 Axes>"
            ]
          },
          "metadata": {
            "tags": [],
            "needs_background": "light"
          }
        }
      ]
    },
    {
      "cell_type": "markdown",
      "metadata": {
        "id": "M4fj3JiJtZrm"
      },
      "source": [
        "## Customize of color, style and size\n",
        "9.  Plot points with different color, style, and size (Turli xil o'lcham, rang va shakldagi nuqtalarni tasvirlang)\n",
        "\n",
        "   **Input**\n",
        "  <table align=\"left\"> \n",
        "  <tr>\n",
        "    <th align=\"center\"><font size=\"3\">X</font></th>\n",
        "    <th align=\"center\"><font size=\"3\">Y</font></th>\n",
        "    <th align=\"center\"><font size=\"3\">Color</font></th>\n",
        "    <th align=\"center\"><font size=\"3\">Style</font></th>\n",
        "    <th align=\"center\"><font size=\"3\">Size</font></th>\n",
        "  </tr>\n",
        "  <tr>\n",
        "    <td align=\"center\"><font size=\"3\">1</font></td>\n",
        "    <td align=\"center\"><font size=\"3\">2</font></td>\n",
        "    <td align=\"center\"><font size=\"3\" color='blue'>b</font></td>\n",
        "    <td align=\"center\"><font size=\"3\">3</font></td>\n",
        "    <td align=\"center\"><font size=\"3\">100</font></td>\n",
        "  </tr>\n",
        "  <tr>\n",
        "    <td align=\"center\"><font size=\"3\">2</font></td>\n",
        "    <td align=\"center\"><font size=\"3\">4</font></td>\n",
        "    <td align=\"center\"><font size=\"3\" color='yellow'>y</font></td>\n",
        "    <td align=\"center\"><font size=\"3\">p</font></td>\n",
        "    <td align=\"center\"><font size=\"3\">150</font></td>\n",
        "  </tr>\n",
        "  <tr>\n",
        "    <td align=\"center\"><font size=\"3\">3</font></td>\n",
        "    <td align=\"center\"><font size=\"3\">6</font></td>\n",
        "    <td align=\"center\"><font size=\"3\" color='green'>g</font></td>\n",
        "    <td align=\"center\"><font size=\"3\">s</font></td>\n",
        "    <td align=\"center\"><font size=\"3\">120</font></td>\n",
        "  </tr>\n",
        "  <tr>\n",
        "    <td align=\"center\"><font size=\"3\">4</font></td>\n",
        "    <td align=\"center\"><font size=\"3\">3</font></td>\n",
        "    <td align=\"center\"><font size=\"3\" color='red'>r</font></td>\n",
        "    <td align=\"center\"><font size=\"3\">v</font></td>\n",
        "    <td align=\"center\"><font size=\"3\">110</font></td>\n",
        "  </tr>\n",
        "  <tr>\n",
        "    <td align=\"center\"><font size=\"3\">10</font></td>\n",
        "    <td align=\"center\"><font size=\"3\">7</font></td>\n",
        "    <td align=\"center\"><font size=\"3\" color='magenta'>m</font></td>\n",
        "    <td align=\"center\"><font size=\"3\">*</font></td>\n",
        "    <td align=\"center\"><font size=\"3\">90</font></td>\n",
        "  </tr>\n",
        "    \n",
        "  </tr>\n",
        "  </table>"
      ]
    },
    {
      "cell_type": "code",
      "metadata": {
        "colab": {
          "base_uri": "https://localhost:8080/",
          "height": 265
        },
        "id": "435B2ofCtafL",
        "outputId": "311cccc6-2a85-4b79-bc09-3c326fb96197"
      },
      "source": [
        "def each_point_style_size_color(x,y,color,style,size):\n",
        "  '''\n",
        "  Parameters: x and y axis points list;\n",
        "  '''\n",
        "  # Write the code here\n",
        "  plt.show()"
      ],
      "execution_count": null,
      "outputs": [
        {
          "output_type": "display_data",
          "data": {
            "image/png": "[encoded data removed]",
            "text/plain": [
              "<Figure size 432x288 with 1 Axes>"
            ]
          },
          "metadata": {
            "tags": [],
            "needs_background": "light"
          }
        }
      ]
    }
  ]
}